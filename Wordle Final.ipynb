{
 "cells": [
  {
   "cell_type": "code",
   "execution_count": 4,
   "id": "a59afd82",
   "metadata": {},
   "outputs": [
    {
     "name": "stdout",
     "output_type": "stream",
     "text": [
      "10422\n"
     ]
    }
   ],
   "source": [
    "from nltk.corpus import words\n",
    "import random\n",
    "import seaborn as sns\n",
    "import matplotlib.pyplot as plt\n",
    "\n",
    "word_list = []\n",
    "for i in words.words():\n",
    "    if len(i)==5:\n",
    "        word_list.append(i.lower()) \n",
    "random.shuffle(word_list)\n",
    "print(len(word_list))"
   ]
  },
  {
   "cell_type": "markdown",
   "id": "d2a171cc",
   "metadata": {},
   "source": [
    "## Full Code"
   ]
  },
  {
   "cell_type": "code",
   "execution_count": 9,
   "id": "e2f09995",
   "metadata": {},
   "outputs": [
    {
     "name": "stdout",
     "output_type": "stream",
     "text": [
      "try the word story\n",
      "Enter which of the 5 spaces are green seperated by comma3\n",
      "Enter which of the 5 spaces are yellow or green seperated by comma2\n"
     ]
    },
    {
     "data": {
      "image/png": "[encoded data removed]",
      "text/plain": [
       "<Figure size 432x288 with 1 Axes>"
      ]
     },
     "metadata": {
      "needs_background": "light"
     },
     "output_type": "display_data"
    },
    {
     "name": "stdout",
     "output_type": "stream",
     "text": [
      "Try the word : gloat\n",
      "\n",
      "Enter which of the 5 spaces are green seperated by comma2,3,4,5\n",
      "Enter which of the 5 spaces are yellow or green seperated by comma2,3,4,5\n"
     ]
    },
    {
     "data": {
      "image/png": "[encoded data removed]",
      "text/plain": [
       "<Figure size 432x288 with 1 Axes>"
      ]
     },
     "metadata": {
      "needs_background": "light"
     },
     "output_type": "display_data"
    },
    {
     "name": "stdout",
     "output_type": "stream",
     "text": [
      "Try the word : bloat\n",
      "\n",
      "Enter which of the 5 spaces are green seperated by comma2,3,4,5\n",
      "Enter which of the 5 spaces are yellow or green seperated by comma2,3,4,5\n"
     ]
    },
    {
     "data": {
      "image/png": "[encoded data removed]",
      "text/plain": [
       "<Figure size 432x288 with 1 Axes>"
      ]
     },
     "metadata": {
      "needs_background": "light"
     },
     "output_type": "display_data"
    },
    {
     "name": "stdout",
     "output_type": "stream",
     "text": [
      "Try the word : ploat\n",
      "\n",
      "Enter which of the 5 spaces are green seperated by comma2,3,4,5\n",
      "Enter which of the 5 spaces are yellow or green seperated by comma2,3,4,5\n"
     ]
    },
    {
     "data": {
      "image/png": "[encoded data removed]",
      "text/plain": [
       "<Figure size 432x288 with 1 Axes>"
      ]
     },
     "metadata": {
      "needs_background": "light"
     },
     "output_type": "display_data"
    },
    {
     "name": "stdout",
     "output_type": "stream",
     "text": [
      "Try the word : float\n",
      "\n",
      "Enter which of the 5 spaces are green seperated by comma1,2,3,4,5\n",
      "Enter which of the 5 spaces are yellow or green seperated by comma1,2,3,4,5\n"
     ]
    },
    {
     "data": {
      "image/png": "[encoded data removed]",
      "text/plain": [
       "<Figure size 432x288 with 1 Axes>"
      ]
     },
     "metadata": {
      "needs_background": "light"
     },
     "output_type": "display_data"
    }
   ],
   "source": [
    "yellow_list=set()\n",
    "green_list=[]\n",
    "grey_list=set()\n",
    "final_word=[0,0,0,0,0]\n",
    "colour = [0,0,0,0,0]\n",
    "\n",
    "\n",
    "prev_word='story'\n",
    "def main(word):\n",
    "    mylist = []\n",
    "    for i in word:\n",
    "        mylist.append(i)\n",
    "    a,b,c,d,e=0,0,0,0,0\n",
    "    x=input(\"Enter which of the 5 spaces are green seperated by comma\")\n",
    "    X=x.split(\",\")\n",
    "    ## Convert to Integer\n",
    "    for i in X:\n",
    "        m = X.index(i)\n",
    "        X[m]=int(i)\n",
    "    y=input(\"Enter which of the 5 spaces are yellow or green seperated by comma\")\n",
    "    Y = y.split(\",\")\n",
    "    for j in Y:\n",
    "        n = Y.index(j)\n",
    "        Y[n]=int(j)\n",
    "        \n",
    "    \n",
    "    if 1 in X:\n",
    "        final_word[0]=mylist[0]\n",
    "        green_list.append(mylist[0])\n",
    "        colour[0]=2\n",
    "    elif 1 in Y:\n",
    "        yellow_list.add(mylist[0])\n",
    "        colour[0]=1\n",
    "    else:\n",
    "        grey_list.add(mylist[0])\n",
    "        \n",
    "    if 2 in X:\n",
    "        final_word[1]=mylist[1]\n",
    "        green_list.append(mylist[1])\n",
    "        colour[1]=2\n",
    "    elif 2 in Y:\n",
    "        yellow_list.add(mylist[1])\n",
    "        colour[1]=1\n",
    "    else:\n",
    "        grey_list.add(mylist[1])\n",
    "        \n",
    "    if 3 in X:\n",
    "        final_word[2]=mylist[2]\n",
    "        green_list.append(mylist[2])\n",
    "        colour[2]=2\n",
    "    elif 3 in Y:\n",
    "        yellow_list.add(mylist[2])\n",
    "        colour[2]=1\n",
    "    else:\n",
    "        grey_list.add(mylist[2])\n",
    "    if 4 in X:\n",
    "        final_word[3]=mylist[3]\n",
    "        green_list.append(mylist[3])\n",
    "        colour[3]=2\n",
    "    elif 4 in Y:\n",
    "        yellow_list.add(mylist[3])\n",
    "        colour[3]=1\n",
    "    else:\n",
    "        grey_list.add(mylist[3])\n",
    "    if 5 in X:\n",
    "        final_word[4]=mylist[4]\n",
    "        green_list.append(mylist[4])\n",
    "        colour[4]=2\n",
    "    elif 5 in Y:\n",
    "        yellow_list.add(mylist[4])\n",
    "        colour[4]=1\n",
    "    else:\n",
    "        grey_list.add(mylist[4])\n",
    "    return final_word\n",
    "    \n",
    "    yellow_list.difference_update(green_list)\n",
    "    grey_list.difference_update(yellow_list.union(green_list))\n",
    "print('try the word story')\n",
    "main('story')\n",
    "sns.heatmap([colour], annot_kws={\"size\":30}, cmap = ['grey', 'yellow', 'green'], annot = [['s','t','o','r','y']], fmt = '', vmin = 0, vmax = 3, square = True, linewidth = 2,cbar = False, linecolor = 'black')\n",
    "plt.show()\n",
    "for word in word_list:\n",
    "    k=0\n",
    "    for i in range(0,5):\n",
    "        if word[i]==final_word[i] or word[i]!=prev_word[i]:\n",
    "            k=k+1\n",
    "        else:\n",
    "            k=k-1\n",
    "    if k==5: \n",
    "        yellow_list.difference_update(green_list)\n",
    "        grey_list.difference_update(yellow_list.union(green_list))\n",
    "        new_word_list=[]\n",
    "        for j in word:\n",
    "            new_word_list.append(j)\n",
    "        ## New word has been transformed in a list \n",
    "        #print(word)\n",
    "        ##check if all yellow words are there\n",
    "        t=0\n",
    "        for i in yellow_list:\n",
    "            if i in new_word_list:\n",
    "                t=t+1  \n",
    "            else:\n",
    "                t=t-1\n",
    "        if t==len(yellow_list):##    ## if all yellow list letters are present we will continue else break\n",
    "            T=0\n",
    "            for i in new_word_list:\n",
    "                if i not in grey_list:\n",
    "                    T=T+1\n",
    "                else:\n",
    "                    T=T-1\n",
    "            if T==5:\n",
    "                TT=0\n",
    "                for i in range (0,5):\n",
    "                    if final_word[i]==0:\n",
    "                        TT=TT+1\n",
    "                    elif final_word[i]==new_word_list[i]:\n",
    "                        TT=TT+1\n",
    "                    else:\n",
    "                        TT=TT-1\n",
    "                #print(\"%s is %i\"%(word,TT))\n",
    "                if TT==5:\n",
    "                    print(\"Try the word : %s\\n\"%word)\n",
    "                    main(word)\n",
    "                    prev_word=word\n",
    "                    sns.heatmap([colour], annot_kws={\"size\":30}, cmap = ['grey', 'yellow', 'green'], annot = [new_word_list], fmt = '', vmin = 0, vmax = 3, square = True, linewidth = 2,cbar = False, linecolor = 'black')\n",
    "                    plt.show()"
   ]
  },
  {
   "cell_type": "code",
   "execution_count": null,
   "id": "d89424b0",
   "metadata": {},
   "outputs": [],
   "source": []
  },
  {
   "cell_type": "code",
   "execution_count": null,
   "id": "651a4dcb",
   "metadata": {},
   "outputs": [],
   "source": []
  },
  {
   "cell_type": "code",
   "execution_count": null,
   "id": "85dc82dd",
   "metadata": {},
   "outputs": [],
   "source": []
  }
 ],
 "metadata": {
  "kernelspec": {
   "display_name": "Python 3",
   "language": "python",
   "name": "python3"
  },
  "language_info": {
   "codemirror_mode": {
    "name": "ipython",
    "version": 3
   },
   "file_extension": ".py",
   "mimetype": "text/x-python",
   "name": "python",
   "nbconvert_exporter": "python",
   "pygments_lexer": "ipython3",
   "version": "3.8.8"
  }
 },
 "nbformat": 4,
 "nbformat_minor": 5
}
