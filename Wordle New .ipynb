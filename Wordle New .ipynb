{
 "cells": [
  {
   "cell_type": "markdown",
   "id": "1c0e97dc",
   "metadata": {},
   "source": [
    "## Make words list"
   ]
  },
  {
   "cell_type": "code",
   "execution_count": 10,
   "id": "ea9540da",
   "metadata": {},
   "outputs": [
    {
     "name": "stdout",
     "output_type": "stream",
     "text": [
      "10422\n"
     ]
    }
   ],
   "source": [
    "from nltk.corpus import words\n",
    "import random\n",
    "import seaborn as sns\n",
    "import matplotlib.pyplot as plt\n",
    "import nltk\n",
    "\n",
    "\n",
    "word_list = []\n",
    "for i in words.words():\n",
    "    if len(i)==5:\n",
    "        word_list.append(i.lower()) \n",
    "print(len(word_list))"
   ]
  },
  {
   "cell_type": "markdown",
   "id": "be4ee4d5",
   "metadata": {},
   "source": [
    "## Main function \n",
    "this function takes a word as an input and asks user to further imput 2 things\n",
    "1) green letters - Letters which are placed in correct order <br>\n",
    "2) yellow letters- Letters which are placed in incorrect order but present in the final word\n",
    "and returns the progress in final word. <br>\n",
    "The function stores the progress and updates further values which are required for suggesting next word"
   ]
  },
  {
   "cell_type": "code",
   "execution_count": 11,
   "id": "1d1511b3",
   "metadata": {},
   "outputs": [],
   "source": [
    "def main(word):\n",
    "    mylist = list(word)\n",
    "    x=input(\"Enter which of the 5 spaces are green seperated by comma\")\n",
    "    X=x.split(\",\")\n",
    "    if X==['']:\n",
    "        pass\n",
    "    else:\n",
    "        ## Convert to Integer\n",
    "        for i in X:\n",
    "               X[X.index(i)]=int(i)\n",
    "    y=input(\"Enter which of the 5 spaces are yellow or green seperated by comma\")\n",
    "    Y = y.split(\",\")    \n",
    "    if Y==['']:\n",
    "        pass\n",
    "    else:\n",
    "        for j in Y:\n",
    "            Y[Y.index(j)]=int(j)\n",
    "    for i in range(1,6):\n",
    "        if i in X:\n",
    "            final_word[i-1]=mylist[i-1]\n",
    "            green_list.append(mylist[i-1])\n",
    "            colour[i-1]=2\n",
    "        if i in Y:\n",
    "            yellow_list.add(mylist[i-1])\n",
    "            colour[i-1]=1\n",
    "        else:\n",
    "            grey_list.add(mylist[i-1])\n",
    "    list_cleaner()\n",
    "    return final_word"
   ]
  },
  {
   "cell_type": "markdown",
   "id": "558fa249",
   "metadata": {},
   "source": [
    "## List Cleaner functions\n",
    "The way green_list, grey_list and yellow list are created there is a chance of an element of green or yellow  list appearing in grey list which is not true. hence we clean the lists"
   ]
  },
  {
   "cell_type": "code",
   "execution_count": 12,
   "id": "9349b3a6",
   "metadata": {},
   "outputs": [],
   "source": [
    "def list_cleaner():\n",
    "    for i in green_list:\n",
    "        if i in grey_list:\n",
    "            grey_list.remove(i)\n",
    "    for j in yellow_list:\n",
    "        if j in grey_list:\n",
    "            grey_list.remove(j)\n",
    "    for k in green_list:\n",
    "        if k in yellow_list:\n",
    "            yellow_list.remove(k)"
   ]
  },
  {
   "cell_type": "markdown",
   "id": "43101e1b",
   "metadata": {},
   "source": [
    "## Checker function\n",
    "This functions takes a word in input and checks if it meets all the condition required to suggest next word <br>\n",
    "these conditions are nothing but consideration of progress at each iteration.\n",
    "for example shuffling yellow letters and keeping green letter as it is as well as not using any letter which has been previously rejected"
   ]
  },
  {
   "cell_type": "code",
   "execution_count": 13,
   "id": "6fd79b12",
   "metadata": {},
   "outputs": [],
   "source": [
    "def list_check(x):\n",
    "    ## early tries and repeated letters in suggestions\n",
    "    if tries<4 and len(list(set(x)))<5:\n",
    "        return('repeated letters at early try')\n",
    "    else:\n",
    "        chck='GG'\n",
    "    \n",
    "    ## previous word suggested\n",
    "    if x in prev_word_list:\n",
    "        return('Word tried already')\n",
    "    else:\n",
    "        chck='GG'\n",
    "    ## Green List check\n",
    "    for i in range (len(final_word)):\n",
    "        if final_word[i]==0 or final_word[i]==x[i]:\n",
    "            chck='GG'\n",
    "            continue\n",
    "        else:\n",
    "            chck='green_list_error'\n",
    "            return(chck)\n",
    "    ## Yellow List check\n",
    "    for j in yellow_list:\n",
    "        \n",
    "        prev_word_with_j=[]\n",
    "        for i in prev_word_list:\n",
    "            if j in i:\n",
    "                prev_word_with_j.append(i)\n",
    "        if j in x and x.index(j) not in [words.index(j) for words in prev_word_with_j]:\n",
    "            chck='GG'\n",
    "        else:\n",
    "            chck='Yellow_list_error'\n",
    "            return(chck)\n",
    "    ## Grey list check\n",
    "    for k in grey_list:\n",
    "        if k in x:\n",
    "            chck='grey_list_error'\n",
    "            return(chck)\n",
    "        else:\n",
    "            chck='GG'\n",
    "            continue\n",
    "    return(chck)"
   ]
  },
  {
   "cell_type": "markdown",
   "id": "83bcd62b",
   "metadata": {},
   "source": [
    "## Word Suggestor Function using list check\n",
    "For each word in word list it uses the checker function to check if the conditions are satisfied and returns a word suggestion <br>\n",
    "till 3 tries the function tries to suggest words where letters are not repeated"
   ]
  },
  {
   "cell_type": "code",
   "execution_count": 14,
   "id": "999690cc",
   "metadata": {},
   "outputs": [],
   "source": [
    "def word_suggestor():\n",
    "    for i in word_list:\n",
    "            x=list_check(i)\n",
    "            if x=='GG':\n",
    "                break\n",
    "            else:\n",
    "                continue\n",
    "    return(i)"
   ]
  },
  {
   "cell_type": "markdown",
   "id": "73f6a667",
   "metadata": {},
   "source": [
    "## Final Code\n",
    "This code runs all the above function in required order as well as displays the result in a user freindly manner. <br>\n",
    "## Trying the code to run and guess the word STORY.\n",
    
   ]
  },
  {
   "cell_type": "code",
   "execution_count": 20,
   "id": "b4148c55",
   "metadata": {},
   "outputs": [
    {
     "name": "stdout",
     "output_type": "stream",
     "text": [
      "Try the word ismal\n",
      "Enter which of the 5 spaces are green seperated by comma\n",
      "Enter which of the 5 spaces are yellow or green seperated by comma2\n"
     ]
    },
    {
     "data": {
      "image/png": "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\n",
      "text/plain": [
       "<Figure size 432x288 with 1 Axes>"
      ]
     },
     "metadata": {
      "needs_background": "light"
     },
     "output_type": "display_data"
    },
    {
     "name": "stdout",
     "output_type": "stream",
     "text": [
      "Try the word sport\n",
      "Enter which of the 5 spaces are green seperated by comma1,3,4\n",
      "Enter which of the 5 spaces are yellow or green seperated by comma5\n"
     ]
    },
    {
     "data": {
      "image/png": "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\n",
      "text/plain": [
       "<Figure size 432x288 with 1 Axes>"
      ]
     },
     "metadata": {
      "needs_background": "light"
     },
     "output_type": "display_data"
    },
    {
     "name": "stdout",
     "output_type": "stream",
     "text": [
      "Try the word story\n",
      "Enter which of the 5 spaces are green seperated by comma1,2,3,4,5\n",
      "Enter which of the 5 spaces are yellow or green seperated by comma\n"
     ]
    },
    {
     "data": {
      "image/png": "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\n",
      "text/plain": [
       "<Figure size 432x288 with 1 Axes>"
      ]
     },
     "metadata": {
      "needs_background": "light"
     },
     "output_type": "display_data"
    },
    {
     "name": "stdout",
     "output_type": "stream",
     "text": [
      "The final word is story\n"
     ]
    }
   ],
   "source": [
    "yellow_list=set()\n",
    "green_list=[]\n",
    "grey_list=set()\n",
    "final_word=[0,0,0,0,0]\n",
    "colour = [0,0,0,0,0]\n",
    "tries=0\n",
    "#word=word_suggestor()\n",
    "#print('Try the word %s'%word)\n",
    "#main(word)\n",
    "prev_word_list=[]\n",
    "random.shuffle(word_list)\n",
    "while 0 in final_word:\n",
    "    tries=tries+1\n",
    "    word = word_suggestor()\n",
    "    print(\"Try the word %s\"%word)\n",
    "    colour = [0,0,0,0,0]\n",
    "    main(word)\n",
    "    sns.heatmap([colour], annot_kws={\"size\":30}, cmap = ['grey', 'yellow', 'green'], annot = [list(word)], fmt = '', vmin = 0, vmax = 3, square = True,linecolor='black', linewidth = 2,cbar = False)\n",
    "    plt.show()\n",
    "    prev_word_list.append(word)\n",
    "print('The final word is %s'%word)"
   ]
  }
 ],
 "metadata": {
  "kernelspec": {
   "display_name": "Python 3",
   "language": "python",
   "name": "python3"
  },
  "language_info": {
   "codemirror_mode": {
    "name": "ipython",
    "version": 3
   },
   "file_extension": ".py",
   "mimetype": "text/x-python",
   "name": "python",
   "nbconvert_exporter": "python",
   "pygments_lexer": "ipython3",
   "version": "3.8.8"
  }
 },
 "nbformat": 4,
 "nbformat_minor": 5
}
